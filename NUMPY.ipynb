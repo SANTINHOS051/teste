{
  "nbformat": 4,
  "nbformat_minor": 0,
  "metadata": {
    "colab": {
      "provenance": [],
      "authorship_tag": "ABX9TyMOTk9p1jlQaRBSdVj6RaFH",
      "include_colab_link": true
    },
    "kernelspec": {
      "name": "python3",
      "display_name": "Python 3"
    },
    "language_info": {
      "name": "python"
    }
  },
  "cells": [
    {
      "cell_type": "markdown",
      "metadata": {
        "id": "view-in-github",
        "colab_type": "text"
      },
      "source": [
        "<a href=\"https://colab.research.google.com/github/SANTINHOS051/teste/blob/main/NUMPY.ipynb\" target=\"_parent\"><img src=\"https://colab.research.google.com/assets/colab-badge.svg\" alt=\"Open In Colab\"/></a>"
      ]
    },
    {
      "cell_type": "code",
      "execution_count": null,
      "metadata": {
        "colab": {
          "base_uri": "https://localhost:8080/"
        },
        "id": "UeUilud2Hbet",
        "outputId": "c0b9f174-306d-4347-c032-e2fcf1e68f87"
      },
      "outputs": [
        {
          "output_type": "stream",
          "name": "stdout",
          "text": [
            "1\n"
          ]
        }
      ],
      "source": [
        "print(1)"
      ]
    },
    {
      "cell_type": "code",
      "source": [
        "w1, w2, w3 = 0.3, 0.2, 0.5\n",
        "\n",
        "print(w1)\n",
        "print(w2)\n",
        "print(w3)\n"
      ],
      "metadata": {
        "id": "IC1lp8wQmF5Y",
        "colab": {
          "base_uri": "https://localhost:8080/"
        },
        "outputId": "07eef9b9-84c9-4139-e6d4-565b601bec36"
      },
      "execution_count": null,
      "outputs": [
        {
          "output_type": "stream",
          "name": "stdout",
          "text": [
            "0.3\n",
            "0.2\n",
            "0.5\n"
          ]
        }
      ]
    },
    {
      "cell_type": "code",
      "source": [
        "#dados climaticos regiao A\n",
        "regiaoA_temp = 22\n",
        "regiaoA_chuva = 67\n",
        "regiaoA_umid = 65\n",
        "\n",
        "#eplicab=ndo modelo\n",
        "regiaoA_goiaba = regiaoA_temp * w1 + regiaoA_chuva * w2 + regiaoA_umid * w3\n",
        "print('Na regiao A a produçao de {} toneladas por hectare'.format(regiaoA_goiaba))"
      ],
      "metadata": {
        "colab": {
          "base_uri": "https://localhost:8080/"
        },
        "id": "DtlHdI618kmU",
        "outputId": "4ef885f8-1a2c-4e51-9b9b-edd00fc582ad"
      },
      "execution_count": null,
      "outputs": [
        {
          "output_type": "stream",
          "name": "stdout",
          "text": [
            "Na regiao A a produçao de 52.5 toneladas por hectare\n"
          ]
        }
      ]
    },
    {
      "cell_type": "code",
      "source": [
        "\n",
        "RegiaoA = [22, 67, 65]\n",
        "RegiaoB = [24, 88, 95]\n",
        "RegiaoC = [17, 134, 50]\n",
        "RegiaoD = [18, 96, 70]\n",
        "#representar o numero de pesos ultilizados na formula como uma lista\n",
        "pesos = [w1, w2, w3]"
      ],
      "metadata": {
        "id": "YGdo_VLE9oXD"
      },
      "execution_count": null,
      "outputs": []
    },
    {
      "cell_type": "code",
      "source": [
        "def teste (a,b):\n",
        "  print(a+b)"
      ],
      "metadata": {
        "id": "A-TCE7-2Faqf"
      },
      "execution_count": null,
      "outputs": []
    },
    {
      "cell_type": "code",
      "source": [
        "teste(100, 98)"
      ],
      "metadata": {
        "colab": {
          "base_uri": "https://localhost:8080/"
        },
        "id": "asvK2lhkFgdO",
        "outputId": "208b23b3-b5f1-4b5e-c522-72c5cec8bc32"
      },
      "execution_count": null,
      "outputs": [
        {
          "output_type": "stream",
          "name": "stdout",
          "text": [
            "198\n"
          ]
        }
      ]
    },
    {
      "cell_type": "code",
      "source": [
        "nomes = ['alice', 'bob', 'charlie']\n",
        "idades = [25, 30, 35]\n",
        "\n",
        "# Combinando listas usando zip\n",
        "lista_combinada = list(zip(nomes, idades))\n",
        "print(lista_combinada)\n",
        "#saida: [('alice', 25), ('bob', 30), ('carlie', 35)]"
      ],
      "metadata": {
        "colab": {
          "base_uri": "https://localhost:8080/"
        },
        "id": "7VsxNRooFolO",
        "outputId": "5cc8c72c-fe40-4a02-906a-1cd60670acf2"
      },
      "execution_count": null,
      "outputs": [
        {
          "output_type": "stream",
          "name": "stdout",
          "text": [
            "[('alice', 25), ('bob', 30), ('charlie', 35)]\n"
          ]
        }
      ]
    },
    {
      "cell_type": "code",
      "source": [
        "def producao_goiaba(regiao, pesos):\n",
        "  result = 0\n",
        "  for x, w in zip(regiao, pesos):\n",
        "    result += x * w\n",
        "  return result\n"
      ],
      "metadata": {
        "id": "xl-dxEyfJhlc"
      },
      "execution_count": null,
      "outputs": []
    },
    {
      "cell_type": "code",
      "source": [
        "print(producao_goiaba(RegiaoA, pesos))"
      ],
      "metadata": {
        "colab": {
          "base_uri": "https://localhost:8080/"
        },
        "id": "nl4KeKLGKoCc",
        "outputId": "ca85458d-31cc-4d0d-8177-4a6640b13ae8"
      },
      "execution_count": null,
      "outputs": [
        {
          "output_type": "stream",
          "name": "stdout",
          "text": [
            "52.5\n"
          ]
        }
      ]
    },
    {
      "cell_type": "code",
      "source": [
        "print(producao_goiaba(RegiaoB, pesos))"
      ],
      "metadata": {
        "colab": {
          "base_uri": "https://localhost:8080/"
        },
        "id": "IEhCbGCxMS58",
        "outputId": "fa7a7a29-3a6c-4447-fb31-214c28ac9878"
      },
      "execution_count": null,
      "outputs": [
        {
          "output_type": "stream",
          "name": "stdout",
          "text": [
            "72.3\n"
          ]
        }
      ]
    },
    {
      "cell_type": "code",
      "source": [
        "import numpy as np\n",
        "\n",
        "RegiaoA = np.array([22, 67, 65])\n",
        "\n",
        "print(type(RegiaoA))\n",
        "\n",
        "pesos = np.array([w1, w2, w3])\n",
        "\n",
        "print(type(pesos))"
      ],
      "metadata": {
        "colab": {
          "base_uri": "https://localhost:8080/"
        },
        "id": "aY-y5dr3Mu6q",
        "outputId": "8c12faa7-d7d7-4923-f393-c7d14ea13c24"
      },
      "execution_count": null,
      "outputs": [
        {
          "output_type": "stream",
          "name": "stdout",
          "text": [
            "<class 'numpy.ndarray'>\n",
            "<class 'numpy.ndarray'>\n"
          ]
        }
      ]
    },
    {
      "cell_type": "code",
      "source": [
        "reg_a = np.dot(RegiaoA, pesos)\n",
        "print('Regiao A: {}'.format(reg_a))"
      ],
      "metadata": {
        "colab": {
          "base_uri": "https://localhost:8080/"
        },
        "id": "SU__oTIMUff4",
        "outputId": "8722c1a5-86f4-437e-a864-db0aa59575e4"
      },
      "execution_count": null,
      "outputs": [
        {
          "output_type": "stream",
          "name": "stdout",
          "text": [
            "Regiao A: 52.5\n"
          ]
        }
      ]
    },
    {
      "cell_type": "code",
      "source": [
        "#exemplo\n",
        "\n",
        "#Lista em Python\n",
        "arr1 = list(range(2000000))\n",
        "arr2 = list(range(1000000, 3000000))\n",
        "\n",
        "# Vetor em numpy\n",
        "arr1_np = np.array(arr1)\n",
        "arr2_np = np.array(arr2)"
      ],
      "metadata": {
        "id": "3ifNyFOBYEGm"
      },
      "execution_count": null,
      "outputs": []
    },
    {
      "cell_type": "code",
      "source": [
        "%%time\n",
        "result = 0\n",
        "for x1, x2 in zip(arr1, arr2):\n",
        "  result += x1*x2\n",
        "print(result)"
      ],
      "metadata": {
        "colab": {
          "base_uri": "https://localhost:8080/"
        },
        "id": "8h_rJbEAalH0",
        "outputId": "ef8526db-a80d-4255-8f6c-bbf0fed99a04"
      },
      "execution_count": null,
      "outputs": [
        {
          "output_type": "stream",
          "name": "stdout",
          "text": [
            "4666663666667000000\n",
            "CPU times: user 361 ms, sys: 0 ns, total: 361 ms\n",
            "Wall time: 361 ms\n"
          ]
        }
      ]
    },
    {
      "cell_type": "code",
      "source": [
        "dados_climaticos =np.array([ [22, 67, 65],\n",
        "                            [24, 88, 95],\n",
        "                            [17, 134, 50],\n",
        "                             [18, 96, 70], ])\n",
        "\n",
        "print(dados_climaticos)"
      ],
      "metadata": {
        "colab": {
          "base_uri": "https://localhost:8080/"
        },
        "id": "DzT3iKbeb7hj",
        "outputId": "94cae5c2-e297-4b3d-9533-c590f671b030"
      },
      "execution_count": null,
      "outputs": [
        {
          "output_type": "stream",
          "name": "stdout",
          "text": [
            "[[ 22  67  65]\n",
            " [ 24  88  95]\n",
            " [ 17 134  50]\n",
            " [ 18  96  70]]\n"
          ]
        }
      ]
    },
    {
      "cell_type": "code",
      "source": [
        "print(pesos.dtype)\n",
        "print('-------')\n",
        "print(dados_climaticos.dtype)\n",
        "\n"
      ],
      "metadata": {
        "colab": {
          "base_uri": "https://localhost:8080/"
        },
        "id": "69AzToMDeTXC",
        "outputId": "28285dc6-ab29-461e-f16e-cc2379959432"
      },
      "execution_count": null,
      "outputs": [
        {
          "output_type": "stream",
          "name": "stdout",
          "text": [
            "float64\n",
            "-------\n",
            "int64\n"
          ]
        }
      ]
    },
    {
      "cell_type": "code",
      "source": [
        "np.matmul(dados_climaticos, pesos)"
      ],
      "metadata": {
        "colab": {
          "base_uri": "https://localhost:8080/"
        },
        "id": "eSOZajwyh85Q",
        "outputId": "cf3a6788-4a93-4a62-8955-00e906dd5629"
      },
      "execution_count": null,
      "outputs": [
        {
          "output_type": "execute_result",
          "data": {
            "text/plain": [
              "array([52.5, 72.3, 56.9, 59.6])"
            ]
          },
          "metadata": {},
          "execution_count": 21
        }
      ]
    },
    {
      "cell_type": "code",
      "source": [
        "dados_climaticos @ pesos"
      ],
      "metadata": {
        "colab": {
          "base_uri": "https://localhost:8080/"
        },
        "id": "6M39Gw2Uj28x",
        "outputId": "1b61527c-9592-479c-f2d6-5f015dfe31a2"
      },
      "execution_count": null,
      "outputs": [
        {
          "output_type": "execute_result",
          "data": {
            "text/plain": [
              "array([52.5, 72.3, 56.9, 59.6])"
            ]
          },
          "metadata": {},
          "execution_count": 22
        }
      ]
    },
    {
      "cell_type": "code",
      "source": [
        "import numpy as np\n"
      ],
      "metadata": {
        "id": "lASFEGvpO3ZV"
      },
      "execution_count": 3,
      "outputs": []
    },
    {
      "cell_type": "code",
      "source": [
        "goiaba_csv = np.genfromtxt('/content/goiaba.csv', delimiter=',')"
      ],
      "metadata": {
        "id": "j3oJ3Ig-j7Q-"
      },
      "execution_count": 8,
      "outputs": []
    },
    {
      "cell_type": "code",
      "source": [
        "goiaba_csv"
      ],
      "metadata": {
        "colab": {
          "base_uri": "https://localhost:8080/"
        },
        "id": "WoL-5QbSOluN",
        "outputId": "a70515a7-af0a-46de-935a-459431a353ed"
      },
      "execution_count": 9,
      "outputs": [
        {
          "output_type": "execute_result",
          "data": {
            "text/plain": [
              "array([[23., 29., 95.],\n",
              "       [24., 20., 21.],\n",
              "       [18., 23., 16.],\n",
              "       [19., 30., 36.]])"
            ]
          },
          "metadata": {},
          "execution_count": 9
        }
      ]
    },
    {
      "cell_type": "code",
      "source": [
        "pesos = np.array([0.4, 0.2, 0.9])"
      ],
      "metadata": {
        "id": "OulqyMZIPMFj"
      },
      "execution_count": 10,
      "outputs": []
    },
    {
      "cell_type": "code",
      "source": [
        "rendimento = goiaba_csv @ pesos"
      ],
      "metadata": {
        "id": "lV6ZVqORPTCK"
      },
      "execution_count": 12,
      "outputs": []
    },
    {
      "cell_type": "code",
      "source": [
        "resultado = np.concatenate((goiaba_csv, rendimento.reshape(4, 1)), axis=1)"
      ],
      "metadata": {
        "id": "H8INlKxdRCeT"
      },
      "execution_count": 14,
      "outputs": []
    },
    {
      "cell_type": "code",
      "source": [
        "resultado"
      ],
      "metadata": {
        "colab": {
          "base_uri": "https://localhost:8080/"
        },
        "id": "s_wM6aIDTKUp",
        "outputId": "48722f64-1585-4625-f137-9da080950fbf"
      },
      "execution_count": 15,
      "outputs": [
        {
          "output_type": "execute_result",
          "data": {
            "text/plain": [
              "array([[ 23. ,  29. ,  95. , 100.5],\n",
              "       [ 24. ,  20. ,  21. ,  32.5],\n",
              "       [ 18. ,  23. ,  16. ,  26.2],\n",
              "       [ 19. ,  30. ,  36. ,  46. ]])"
            ]
          },
          "metadata": {},
          "execution_count": 15
        }
      ]
    },
    {
      "cell_type": "code",
      "source": [
        "#agora é so salvar\n",
        "np.savetxt('goiaba_resultado.csv',\n",
        "           resultado,\n",
        "           fmt='%.2f',\n",
        "           delimiter=',',\n",
        "           header= 'temperatura,precipitaçao,umidade,rendimento',\n",
        "           comments='')"
      ],
      "metadata": {
        "id": "-qYvLW_4TxbB"
      },
      "execution_count": 23,
      "outputs": []
    },
    {
      "cell_type": "code",
      "source": [],
      "metadata": {
        "id": "okhs6on0Ve_w"
      },
      "execution_count": null,
      "outputs": []
    }
  ]
}